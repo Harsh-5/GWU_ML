{
  "cells": [
    {
      "cell_type": "markdown",
      "metadata": {
        "id": "view-in-github",
        "colab_type": "text"
      },
      "source": [
        "<a href=\"https://colab.research.google.com/github/jphall663/GWU_ML/blob/main/notebook/lecture_7/Assignment_7.ipynb\" target=\"_parent\"><img src=\"https://colab.research.google.com/assets/colab-badge.svg\" alt=\"Open In Colab\"/></a>"
      ]
    },
    {
      "cell_type": "markdown",
      "metadata": {
        "id": "I4Fd8kSkPDMz"
      },
      "source": [
        "# License \n",
        "***\n",
        "Copyright (C) 2017 -- 2022 J. Patrick Hall, jphall@gwu.edu\n",
        "\n",
        "Permission is hereby granted, free of charge, to any person obtaining a copy of this software and associated documentation files (the \"Software\"), to deal in the Software without restriction, including without limitation the rights to use, copy, modify, merge, publish, distribute, sublicense, and/or sell copies of the Software, and to permit persons to whom the Software is furnished to do so, subject to the following conditions:\n",
        "\n",
        "The above copyright notice and this permission notice shall be included in all copies or substantial portions of the Software.\n",
        "\n",
        "THE SOFTWARE IS PROVIDED \"AS IS\", WITHOUT WARRANTY OF ANY KIND, EXPRESS OR IMPLIED, INCLUDING BUT NOT LIMITED TO THE WARRANTIES OF MERCHANTABILITY, FITNESS FOR A PARTICULAR PURPOSE AND NONINFRINGEMENT. IN NO EVENT SHALL THE AUTHORS OR COPYRIGHT HOLDERS BE LIABLE FOR ANY CLAIM, DAMAGES OR OTHER LIABILITY, WHETHER IN AN ACTION OF CONTRACT, TORT OR OTHERWISE, ARISING FROM, OUT OF OR IN CONNECTION WITH THE SOFTWARE OR THE USE OR OTHER DEALINGS IN THE SOFTWARE."
      ]
    },
    {
      "cell_type": "markdown",
      "source": [
        "1. Standard Python imports and config"
      ],
      "metadata": {
        "id": "O4uxW2fnP4sy"
      }
    },
    {
      "cell_type": "code",
      "execution_count": null,
      "metadata": {
        "collapsed": true,
        "id": "sE1Pc8F2PDM3"
      },
      "outputs": [],
      "source": [
        "# imports\n",
        "import numpy as np\n",
        "import pandas as pd\n",
        "\n",
        "# to upload local files\n",
        "import io\n",
        "from google.colab import files  \n",
        "\n",
        "# display matplotlib graphics in notebook\n",
        "%matplotlib inline\n",
        "\n",
        "# random seed for better reproducibility\n",
        "SEED = 12345"
      ]
    },
    {
      "cell_type": "markdown",
      "source": [
        "2. Install Java"
      ],
      "metadata": {
        "id": "M_-zo9suP56G"
      }
    },
    {
      "cell_type": "code",
      "execution_count": null,
      "metadata": {
        "collapsed": true,
        "id": "a10fYVxaPDM4"
      },
      "outputs": [],
      "source": [
        "# install Java for h2o backend\n",
        "!apt-get install default-jre\n",
        "!java -version"
      ]
    },
    {
      "cell_type": "markdown",
      "source": [
        "3. Install h2o"
      ],
      "metadata": {
        "id": "LNf4EpZKP9Bo"
      }
    },
    {
      "cell_type": "code",
      "source": [
        "# install h2o\n",
        "!pip install h2o "
      ],
      "metadata": {
        "id": "7Ao24vYwPYBT"
      },
      "execution_count": null,
      "outputs": []
    },
    {
      "cell_type": "markdown",
      "source": [
        "4. Import h2o package and required classes"
      ],
      "metadata": {
        "id": "487qq1zvQBYy"
      }
    },
    {
      "cell_type": "code",
      "source": [
        "# import h2o\n",
        "import h2o\n",
        "from h2o.estimators.gbm import H2OGradientBoostingEstimator \n",
        "from h2o.estimators.random_forest import H2ORandomForestEstimator\n",
        "from h2o.grid.grid_search import H2OGridSearch"
      ],
      "metadata": {
        "id": "EOIeRDTQPkiN"
      },
      "execution_count": null,
      "outputs": []
    },
    {
      "cell_type": "markdown",
      "source": [
        "5. Start h2o Server"
      ],
      "metadata": {
        "id": "mXM4Qz6LQHrV"
      }
    },
    {
      "cell_type": "code",
      "execution_count": null,
      "metadata": {
        "id": "PnQHHoNePDM4"
      },
      "outputs": [],
      "source": [
        "# start and connect to h2o server\n",
        "h2o.init()"
      ]
    },
    {
      "cell_type": "markdown",
      "source": [
        "6. Upload example data"
      ],
      "metadata": {
        "id": "TS-rGz9ZQWSS"
      }
    },
    {
      "cell_type": "code",
      "execution_count": null,
      "metadata": {
        "collapsed": true,
        "id": "lafw_6TcPDM5"
      },
      "outputs": [],
      "source": [
        "# special google collab command to upload a file from computer\n",
        "uploaded = files.upload() # REQUIRES STUDENT INPUT"
      ]
    },
    {
      "cell_type": "code",
      "source": [
        "# 7\n",
        "uploaded.keys() # what is stored in that Python object?"
      ],
      "metadata": {
        "id": "QvxHXJuQQazV"
      },
      "execution_count": null,
      "outputs": []
    },
    {
      "cell_type": "markdown",
      "source": [
        "8. Covert to Pandas DataFrame"
      ],
      "metadata": {
        "id": "4uBDwFLUQoGG"
      }
    },
    {
      "cell_type": "code",
      "source": [
        "# convert data to Pandas DataFrame\n",
        "raw = pd.read_csv(io.StringIO(uploaded['loan_clean.csv'].decode('utf-8'))) # name in quotes here must match name above"
      ],
      "metadata": {
        "id": "ziPGoF6EQoZ-"
      },
      "execution_count": null,
      "outputs": []
    },
    {
      "cell_type": "markdown",
      "source": [
        "9. Convert to H2O Frame"
      ],
      "metadata": {
        "id": "tpM1NuBVQ-8Q"
      }
    },
    {
      "cell_type": "code",
      "execution_count": null,
      "metadata": {
        "id": "Quu35ZwhPDM5"
      },
      "outputs": [],
      "source": [
        "frame = h2o.H2OFrame(raw) "
      ]
    },
    {
      "cell_type": "markdown",
      "source": [
        "10. Split into train, validation, and test partitions -- with seed!!"
      ],
      "metadata": {
        "id": "rLnVu0ZvR4bJ"
      }
    },
    {
      "cell_type": "code",
      "execution_count": null,
      "metadata": {
        "id": "4DvCG2UFPDM7"
      },
      "outputs": [],
      "source": [
        "# split into 40% training, 30% validation, and 30% test\n",
        "train, valid, test = frame.split_frame([0.4, 0.3], seed=SEED) # REQUIRES STUDENT INPUT"
      ]
    },
    {
      "cell_type": "markdown",
      "source": [
        "11. Assign modeling roles"
      ],
      "metadata": {
        "id": "Sfb67v1JSDYR"
      }
    },
    {
      "cell_type": "code",
      "execution_count": null,
      "metadata": {
        "id": "WregqvToPDM7"
      },
      "outputs": [],
      "source": [
        "# assign target and inputs\n",
        "y = 'bad_loan'\n",
        "X = [name for name in frame.columns if name not in ['id', '_WARN_', y, 'GRP_home_ownership']]\n",
        "print(y)\n",
        "print(X)\n",
        "print(len(X))"
      ]
    },
    {
      "cell_type": "markdown",
      "source": [
        "12. Set measurment level across data partitions (just to be sure)"
      ],
      "metadata": {
        "id": "_N3QGiDKSInp"
      }
    },
    {
      "cell_type": "code",
      "execution_count": null,
      "metadata": {
        "collapsed": true,
        "id": "4UIJOzxVPDM7"
      },
      "outputs": [],
      "source": [
        "# set target to factor - for binary classification\n",
        "train[y] = train[y].asfactor()\n",
        "valid[y] = valid[y].asfactor()\n",
        "test[y] = test[y].asfactor()"
      ]
    },
    {
      "cell_type": "markdown",
      "source": [
        "13. Train a random forest -- grid search not needed"
      ],
      "metadata": {
        "id": "Op-rZNvzSS9t"
      }
    },
    {
      "cell_type": "code",
      "execution_count": null,
      "metadata": {
        "id": "mXFvSaRSPDM8"
      },
      "outputs": [],
      "source": [
        "# random forest\n",
        "\n",
        "# initialize rf model\n",
        "rf_model = H2ORandomForestEstimator(\n",
        "    ntrees=500,                      # Up to 500 decision trees in the forest \n",
        "    max_depth=30,                    # trees can grow to depth of 30\n",
        "    stopping_rounds=5,               # stop after validation error does not decrease for 5 iterations/new trees\n",
        "    score_tree_interval=3,           # makes early stopping reproducible\n",
        "    seed=SEED)                       # REQUIRES STUDENT INPUT\n",
        "\n",
        "# train rf model\n",
        "rf_model.train(\n",
        "    x=X,\n",
        "    y=y,\n",
        "    training_frame=train,\n",
        "    validation_frame=valid)\n",
        "\n",
        "# print model information\n",
        "rf_model"
      ]
    },
    {
      "cell_type": "markdown",
      "source": [
        "14. View random forest AUC across data partitions"
      ],
      "metadata": {
        "id": "9smPNyYeSgBd"
      }
    },
    {
      "cell_type": "code",
      "execution_count": null,
      "metadata": {
        "id": "Ku_0YGmYPDM8"
      },
      "outputs": [],
      "source": [
        "# measure rf AUC\n",
        "print(rf_model.auc(train=True))\n",
        "print(rf_model.auc(valid=True))\n",
        "print(rf_model.model_performance(test_data=test).auc())"
      ]
    },
    {
      "cell_type": "markdown",
      "source": [
        "15. Calculate partial dependence for `STD_IMP_REP_int_rate`"
      ],
      "metadata": {
        "id": "nES8MxzBUj8x"
      }
    },
    {
      "cell_type": "code",
      "source": [
        "# partial dependence plots are an interpretation tool\n",
        "pd0 = rf_model.partial_plot(data=train, cols=['STD_IMP_REP_int_rate'], plot=True)"
      ],
      "metadata": {
        "id": "1zXGPLsrUkVA"
      },
      "execution_count": null,
      "outputs": []
    },
    {
      "cell_type": "markdown",
      "source": [
        "16. Plot random forest feature importance"
      ],
      "metadata": {
        "id": "rJAYcSgCc7CQ"
      }
    },
    {
      "cell_type": "code",
      "source": [
        "_ = rf_model.varimp_plot()"
      ],
      "metadata": {
        "id": "pmzYZzh4c7aY"
      },
      "execution_count": null,
      "outputs": []
    },
    {
      "cell_type": "markdown",
      "source": [
        "17. Score new row of data"
      ],
      "metadata": {
        "id": "d_VTD4bGUkyj"
      }
    },
    {
      "cell_type": "code",
      "source": [
        "# predict on new data -- REQUIRES STUDENT INPUT\n",
        "new_row = pd.DataFrame.from_dict({\n",
        "  \"GRP_REP_home_ownership\": [1],\n",
        "  \"GRP_addr_state\": [20],\n",
        "  \"GRP_purpose\": [1],\n",
        "  \"GRP_verification_status\": [1],\n",
        "  \"STD_IMP_REP_annual_inc\": [4],\n",
        "  \"STD_IMP_REP_delinq_2yrs\": [1],\n",
        "  \"STD_IMP_REP_dti\": [1],\n",
        "  \"STD_IMP_REP_emp_length\": [2],\n",
        "  \"STD_IMP_REP_int_rate\": [1],\n",
        "  \"STD_IMP_REP_loan_amnt\": [1],\n",
        "  \"STD_IMP_REP_longest_credit_lengt\": [1],\n",
        "  \"STD_IMP_REP_revol_util\": [1],\n",
        "  \"STD_IMP_REP_term_length\":[1],\n",
        "  \"STD_IMP_REP_total_acc\": [0]},\n",
        "  orient='columns')\n",
        "\n",
        "# generate prediction -- REQUIRES STUDENT INPUT\n",
        "rf_model.predict(h2o.H2OFrame(new_row))"
      ],
      "metadata": {
        "id": "rDo5BbO2UlOm"
      },
      "execution_count": null,
      "outputs": []
    },
    {
      "cell_type": "markdown",
      "source": [
        "18. Train GBM with random grid search"
      ],
      "metadata": {
        "id": "u5-CISz6VGHR"
      }
    },
    {
      "cell_type": "code",
      "execution_count": null,
      "metadata": {
        "id": "xsV2KTxyPDM8"
      },
      "outputs": [],
      "source": [
        "# GBM with random hyperparameter search\n",
        "# train many different GBM models with random hyperparameters\n",
        "# and select best model based on validation error\n",
        "\n",
        "# define random grid search parameters\n",
        "hyper_parameters = {'ntrees':list(range(0, 500, 50)),\n",
        "                    'max_depth':list(range(0, 20, 2)),\n",
        "                    'sample_rate':[s/float(10) for s in range(1, 11)],\n",
        "                    'col_sample_rate':[s/float(10) for s in range(1, 11)]}\n",
        "\n",
        "# define search strategy\n",
        "search_criteria = {'strategy':'RandomDiscrete',\n",
        "                   'max_models':20,\n",
        "                   'max_runtime_secs':600,\n",
        "                   'seed': SEED} # REQUIRES STUDENT INPUT\n",
        "\n",
        "# initialize grid search\n",
        "gsearch = H2OGridSearch(H2OGradientBoostingEstimator,\n",
        "                        hyper_params=hyper_parameters,\n",
        "                        search_criteria=search_criteria)\n",
        "\n",
        "# execute training w/ grid search\n",
        "gsearch.train(x=X,\n",
        "              y=y,\n",
        "              training_frame=train,\n",
        "              validation_frame=valid,\n",
        "              seed=SEED) # REQUIRES STUDENTS INPUT"
      ]
    },
    {
      "cell_type": "markdown",
      "source": [
        "19. View grid search results"
      ],
      "metadata": {
        "id": "QKg2pzBVVKB5"
      }
    },
    {
      "cell_type": "code",
      "execution_count": null,
      "metadata": {
        "id": "TdRBxhwWPDM9"
      },
      "outputs": [],
      "source": [
        "# show grid search results\n",
        "gsearch.show()\n",
        "\n",
        "# select best model\n",
        "gbm_model = gsearch.get_grid()[0]\n",
        "\n",
        "# print model information\n",
        "gbm_model"
      ]
    },
    {
      "cell_type": "markdown",
      "source": [
        "20. View GBM AUC across data partitions"
      ],
      "metadata": {
        "id": "S_jDDCGHVNsM"
      }
    },
    {
      "cell_type": "code",
      "execution_count": null,
      "metadata": {
        "id": "48iBd8fKPDM9"
      },
      "outputs": [],
      "source": [
        "# measure gbm AUC\n",
        "print(gbm_model.auc(train=True))\n",
        "print(gbm_model.auc(valid=True))\n",
        "print(gbm_model.model_performance(test_data=test).auc())"
      ]
    },
    {
      "cell_type": "markdown",
      "source": [
        "21. Calculate partial dependence for `STD_IMP_REP_int_rate`"
      ],
      "metadata": {
        "id": "vQYGOPnlVaiH"
      }
    },
    {
      "cell_type": "code",
      "execution_count": null,
      "metadata": {
        "id": "CGCaTyoaPDM9"
      },
      "outputs": [],
      "source": [
        "# partial dependence plots are an interpretation tool\n",
        "pd1 = gbm_model.partial_plot(data=train, cols=['STD_IMP_REP_int_rate'], plot=True)"
      ]
    },
    {
      "cell_type": "markdown",
      "source": [
        "22. Plot GBM feature importance"
      ],
      "metadata": {
        "id": "brACwQEPdyIW"
      }
    },
    {
      "cell_type": "code",
      "source": [
        "_ = gbm_model.varimp_plot()"
      ],
      "metadata": {
        "id": "JqL33eRmdypG"
      },
      "execution_count": null,
      "outputs": []
    },
    {
      "cell_type": "markdown",
      "source": [
        "23. Score new row of data"
      ],
      "metadata": {
        "id": "wYMkbyoaVvop"
      }
    },
    {
      "cell_type": "code",
      "source": [
        "# predict on new data -- REQUIRES STUDENT INPUT\n",
        "new_row = pd.DataFrame.from_dict({\n",
        "  \"GRP_REP_home_ownership\": [1],\n",
        "  \"GRP_addr_state\": [20],\n",
        "  \"GRP_purpose\": [1],\n",
        "  \"GRP_verification_status\": [1],\n",
        "  \"STD_IMP_REP_annual_inc\": [4],\n",
        "  \"STD_IMP_REP_delinq_2yrs\": [1],\n",
        "  \"STD_IMP_REP_dti\": [1],\n",
        "  \"STD_IMP_REP_emp_length\": [2],\n",
        "  \"STD_IMP_REP_int_rate\": [1],\n",
        "  \"STD_IMP_REP_loan_amnt\": [1],\n",
        "  \"STD_IMP_REP_longest_credit_lengt\": [1],\n",
        "  \"STD_IMP_REP_revol_util\": [1],\n",
        "  \"STD_IMP_REP_term_length\":[1],\n",
        "  \"STD_IMP_REP_total_acc\": [0]},\n",
        "  orient='columns')\n",
        "\n",
        "# generate prediction -- REQUIRES STUDENT INPUT\n",
        "gbm_model.predict(h2o.H2OFrame(new_row))"
      ],
      "metadata": {
        "id": "lsPS39Z9Vxv7"
      },
      "execution_count": null,
      "outputs": []
    },
    {
      "cell_type": "markdown",
      "source": [
        "24. Shutdown `h2o`"
      ],
      "metadata": {
        "id": "lI8QXzpuVlEp"
      }
    },
    {
      "cell_type": "code",
      "execution_count": null,
      "metadata": {
        "id": "gJJMP6TQPDM9"
      },
      "outputs": [],
      "source": [
        "# shutdown h2o\n",
        "h2o.cluster().shutdown(prompt=False)"
      ]
    }
  ],
  "metadata": {
    "anaconda-cloud": {},
    "kernelspec": {
      "display_name": "Python [conda root]",
      "language": "python",
      "name": "conda-root-py"
    },
    "language_info": {
      "codemirror_mode": {
        "name": "ipython",
        "version": 3
      },
      "file_extension": ".py",
      "mimetype": "text/x-python",
      "name": "python",
      "nbconvert_exporter": "python",
      "pygments_lexer": "ipython3",
      "version": "3.5.2"
    },
    "colab": {
      "name": "Assignment 7.ipynb",
      "provenance": [],
      "collapsed_sections": [],
      "include_colab_link": true
    }
  },
  "nbformat": 4,
  "nbformat_minor": 0
}