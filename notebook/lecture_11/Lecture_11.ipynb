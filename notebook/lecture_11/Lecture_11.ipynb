{
  "cells": [
    {
      "cell_type": "markdown",
      "metadata": {
        "id": "view-in-github",
        "colab_type": "text"
      },
      "source": [
        "<a href=\"https://colab.research.google.com/github/jphall663/GWU_ML/blob/main/notebook/lecture_11/Lecture_11.ipynb\" target=\"_parent\"><img src=\"https://colab.research.google.com/assets/colab-badge.svg\" alt=\"Open In Colab\"/></a>"
      ]
    },
    {
      "cell_type": "markdown",
      "metadata": {
        "id": "lHJyCWCR0H02"
      },
      "source": [
        "# License \n",
        "***\n",
        "Copyright (C) 2017-2022 J. Patrick Hall, jphall@gwu.edu\n",
        "\n",
        "Permission is hereby granted, free of charge, to any person obtaining a copy of this software and associated documentation files (the \"Software\"), to deal in the Software without restriction, including without limitation the rights to use, copy, modify, merge, publish, distribute, sublicense, and/or sell copies of the Software, and to permit persons to whom the Software is furnished to do so, subject to the following conditions:\n",
        "\n",
        "The above copyright notice and this permission notice shall be included in all copies or substantial portions of the Software.\n",
        "\n",
        "THE SOFTWARE IS PROVIDED \"AS IS\", WITHOUT WARRANTY OF ANY KIND, EXPRESS OR IMPLIED, INCLUDING BUT NOT LIMITED TO THE WARRANTIES OF MERCHANTABILITY, FITNESS FOR A PARTICULAR PURPOSE AND NONINFRINGEMENT. IN NO EVENT SHALL THE AUTHORS OR COPYRIGHT HOLDERS BE LIABLE FOR ANY CLAIM, DAMAGES OR OTHER LIABILITY, WHETHER IN AN ACTION OF CONTRACT, TORT OR OTHERWISE, ARISING FROM, OUT OF OR IN CONNECTION WITH THE SOFTWARE OR THE USE OR OTHER DEALINGS IN THE SOFTWARE."
      ]
    },
    {
      "cell_type": "markdown",
      "metadata": {
        "id": "jzDi7hqI0H1C"
      },
      "source": [
        "***\n",
        "# Kaggle Movie Lens and Basic Collaborative Filtering"
      ]
    },
    {
      "cell_type": "markdown",
      "metadata": {
        "id": "9_pxDSsA0H1D"
      },
      "source": [
        "1. General imports and inits"
      ]
    },
    {
      "cell_type": "code",
      "execution_count": null,
      "metadata": {
        "id": "0mY9UtJr0H1E"
      },
      "outputs": [],
      "source": [
        "# basic packages for recommendation\n",
        "import numpy as np\n",
        "import pandas as pd\n",
        "from sklearn.cluster import KMeans\n",
        "from sklearn.decomposition import NMF\n",
        "\n",
        "# to upload local files\n",
        "import io\n",
        "from google.colab import files  \n",
        "\n",
        "SEED = 12345 # for better reproducibility"
      ]
    },
    {
      "cell_type": "markdown",
      "metadata": {
        "id": "9xTvIstw0H1N"
      },
      "source": [
        "2. Import train data"
      ]
    },
    {
      "cell_type": "code",
      "source": [
        "# special google collab command to upload a file from computer\n",
        "# REQUIRES STUDENT INPUT\n",
        "# import: u.data and u.item\n",
        "uploaded = files.upload() "
      ],
      "metadata": {
        "id": "aqk7_ra6p73S"
      },
      "execution_count": null,
      "outputs": []
    },
    {
      "cell_type": "code",
      "source": [
        "# 3\n",
        "uploaded.keys() # what is stored in that Python object?"
      ],
      "metadata": {
        "id": "JQIg4lJKqGsv"
      },
      "execution_count": null,
      "outputs": []
    },
    {
      "cell_type": "markdown",
      "source": [
        "4. Load ratings data"
      ],
      "metadata": {
        "id": "RZyzaq6jqyto"
      }
    },
    {
      "cell_type": "code",
      "execution_count": null,
      "metadata": {
        "id": "fQTrj9Sf0H1O"
      },
      "outputs": [],
      "source": [
        "r_cols = r_cols = ['user_id', 'movie_id', 'rating', 'timestamp']\n",
        "ratings = pd.read_csv(io.StringIO(uploaded['u.data'].decode('latin-1')), sep='\\t',\n",
        "          names=r_cols) # name in quotes here must match name in 3 above"
      ]
    },
    {
      "cell_type": "markdown",
      "source": [
        "5. Load items data"
      ],
      "metadata": {
        "id": "aaeqCknDq3XC"
      }
    },
    {
      "cell_type": "code",
      "execution_count": null,
      "metadata": {
        "id": "8vHdniU50H1P"
      },
      "outputs": [],
      "source": [
        "i_cols = ['movie_id', 'title' ,'release date','video release date', 'IMDb URL', 'unknown', 'Action', 'Adventure',\n",
        "'Animation', 'Children\\'s', 'Comedy', 'Crime', 'Documentary', 'Drama', 'Fantasy',\n",
        "'Film-Noir', 'Horror', 'Musical', 'Mystery', 'Romance', 'Sci-Fi', 'Thriller', 'War', 'Western']\n",
        "movies = pd.read_csv(io.StringIO(uploaded['u.item'].decode('latin-1')), sep='|',\n",
        "                     names=i_cols) # name in quotes here must match name in 3 above\n",
        "movies.index += 1 # necessary for later join"
      ]
    },
    {
      "cell_type": "markdown",
      "metadata": {
        "id": "VXE__H-60H1Q"
      },
      "source": [
        "6. View ratings data \n",
        "* Sparse! but in dense COO format here\n",
        "* Read as: user 196 rated movie 242 with a 3\n",
        "* As a sparse matrix, rows would be all users, columns would be all movies, and data would be movie ratings\n"
      ]
    },
    {
      "cell_type": "code",
      "execution_count": null,
      "metadata": {
        "id": "JHY-Le7D0H1Q"
      },
      "outputs": [],
      "source": [
        "ratings"
      ]
    },
    {
      "cell_type": "markdown",
      "metadata": {
        "id": "U1UyCu7y0H1Q"
      },
      "source": [
        "7. View movies data"
      ]
    },
    {
      "cell_type": "code",
      "execution_count": null,
      "metadata": {
        "id": "J_RF9PAQ0H1R"
      },
      "outputs": [],
      "source": [
        "movies.head()"
      ]
    },
    {
      "cell_type": "markdown",
      "metadata": {
        "id": "PkkzGy6c0H1S"
      },
      "source": [
        "8. Summarize loaded data"
      ]
    },
    {
      "cell_type": "code",
      "execution_count": null,
      "metadata": {
        "id": "OaIetotk0H1S"
      },
      "outputs": [],
      "source": [
        "print('Total movies:', len(movies))\n",
        "print('Total ratings:', len(ratings))"
      ]
    },
    {
      "cell_type": "markdown",
      "metadata": {
        "id": "-mTengjT0H1U"
      },
      "source": [
        "9. Expand COO matrix to large sparse matrix\n",
        "* This is dumb and done just to use ... scikit-learn!\n",
        "* For actual big data, this would be extremely inefficient and probably fail"
      ]
    },
    {
      "cell_type": "code",
      "execution_count": null,
      "metadata": {
        "id": "Xj85xZKd0H1U"
      },
      "outputs": [],
      "source": [
        "df_ratings = ratings.pivot(index='user_id', columns='movie_id', values='rating') # expand \n",
        "df_ratings.fillna(0, inplace=True) # impute nans with 0's\n",
        "df_ratings # NOTE: movies and users are indexed from 1, not 0!"
      ]
    },
    {
      "cell_type": "markdown",
      "source": [
        "10. Factorize ratings into:\n",
        "* W matrix with all users\n",
        "* H matrix with all movies"
      ],
      "metadata": {
        "id": "axhj8qgusrLg"
      }
    },
    {
      "cell_type": "code",
      "source": [
        "mf_model = NMF(n_components=, init='random', random_state=, max_iter=1000) # REQUIRES STUDENT INPUT\n",
        "W = mf_model.fit_transform(df_ratings)\n",
        "H = mf_model.components_\n",
        "print(W.shape) # W has all users\n",
        "print(H.shape) # H has all movies"
      ],
      "metadata": {
        "id": "7a9zHf2fpqch"
      },
      "execution_count": null,
      "outputs": []
    },
    {
      "cell_type": "markdown",
      "source": [
        "11. Fit many small clusters in W"
      ],
      "metadata": {
        "id": "yXl0Lb1yuWrk"
      }
    },
    {
      "cell_type": "code",
      "source": [
        "kmeans_model = KMeans(n_clusters=, random_state=).fit() # REQUIRES STUDENT INPUT: make many small clusters of users"
      ],
      "metadata": {
        "id": "qXf5h_eisHON"
      },
      "execution_count": null,
      "outputs": []
    },
    {
      "cell_type": "markdown",
      "source": [
        "12. Add cluster labels"
      ],
      "metadata": {
        "id": "FcNmqQSBuizp"
      }
    },
    {
      "cell_type": "code",
      "source": [
        "cols = ['archetype_' + str(i) for i in range(0, W.shape[1])]\n",
        "W_df = pd.DataFrame(W, columns=cols)\n",
        "W_df['cluster'] = kmeans_model.predict(W)\n",
        "W_df.sort_values(by='cluster', inplace=True)\n",
        "W_df # scroll to right to see cluster labels"
      ],
      "metadata": {
        "id": "h0nrGMK0uidv"
      },
      "execution_count": null,
      "outputs": []
    },
    {
      "cell_type": "markdown",
      "source": [
        "13. Extract users from first cluster"
      ],
      "metadata": {
        "id": "zYsgcDd9vUFX"
      }
    },
    {
      "cell_type": "code",
      "source": [
        "cluster_0_user_ids = W_df[W_df['cluster'] == 0].index # the row index of W corresponds to user ids - 1 \n",
        "cluster_0_user_ids = cluster_0_user_ids + 1\n",
        "cluster_0_user_ids = sorted(cluster_0_user_ids)\n",
        "cluster_0_user_ids # see users ids in cluster 0"
      ],
      "metadata": {
        "id": "ZGAhpG68sPc_"
      },
      "execution_count": null,
      "outputs": []
    },
    {
      "cell_type": "markdown",
      "source": [
        "14. Extract Movie IDs sorted by ranking for cluster 0"
      ],
      "metadata": {
        "id": "sLSYVCcYyoCQ"
      }
    },
    {
      "cell_type": "code",
      "source": [
        "cluster_0_movie_ids = df_ratings.loc[cluster_0_user_ids, :] # extract the rows from the ratings matrix for cluster 0 users\n",
        "cluster_0_movie_ids = pd.DataFrame(cluster_0_movie_ids.sum(axis=0), columns=(['total_ratings'])) # sum the columns for those users to total their ratings for each movie\n",
        "cluster_0_movie_ids.sort_values(by='total_ratings', ascending=False, inplace=True) # sort the movies by their total ratings\n",
        "cluster_0_movie_ids = cluster_0_movie_ids[cluster_0_movie_ids['total_ratings'] > 0] # drop movies with 0 ratings (unwatched movies)\n",
        "cluster_0_movie_ids"
      ],
      "metadata": {
        "id": "vOr6eDl-vdFu"
      },
      "execution_count": null,
      "outputs": []
    },
    {
      "cell_type": "markdown",
      "source": [
        "15. Join name information and see most popular movie titles in cluster 0"
      ],
      "metadata": {
        "id": "_9yWS06Q3K-n"
      }
    },
    {
      "cell_type": "code",
      "source": [
        "cluster_0_movie_ids.join(movies[['movie_id', 'title']], on='movie_id', how='left',  lsuffix='_L', rsuffix='_R') # action movies!"
      ],
      "metadata": {
        "id": "rfYAu9bNv2B-"
      },
      "execution_count": null,
      "outputs": []
    },
    {
      "cell_type": "markdown",
      "source": [
        "16. Determine which movies user 5 has seen\n",
        "* User 5 is in cluster 0"
      ],
      "metadata": {
        "id": "Igzo6FkP4ANL"
      }
    },
    {
      "cell_type": "code",
      "source": [
        "user_5_movie_ids = df_ratings.loc[5, :] # select user 5 ratings\n",
        "user_5_movie_ids = list(user_5_movie_ids[user_5_movie_ids > 0].index) # drop unrated, unwatched movies\n",
        "print(user_5_movie_ids) # movies user 5 has watched and rated\n",
        "print(len(user_5_movie_ids))"
      ],
      "metadata": {
        "id": "ra32MMZD3-YW"
      },
      "execution_count": null,
      "outputs": []
    },
    {
      "cell_type": "markdown",
      "source": [
        "17. See recommended movie titles for user 5"
      ],
      "metadata": {
        "id": "9EI1Vhnq6Es9"
      }
    },
    {
      "cell_type": "code",
      "source": [
        "recs = cluster_0_movie_ids.drop(user_5_movie_ids, axis=0) # drop the movies user 5 has seen from cluster_0_movie_ids\n",
        "recs.join(movies[['movie_id', 'title']], on='movie_id', how='left',  lsuffix='_L', rsuffix='_R').head() # join to title information and show best recommended titles"
      ],
      "metadata": {
        "id": "DWN_88jS4K3f"
      },
      "execution_count": null,
      "outputs": []
    }
  ],
  "metadata": {
    "anaconda-cloud": {},
    "kernelspec": {
      "display_name": "Python 3",
      "language": "python",
      "name": "python3"
    },
    "language_info": {
      "codemirror_mode": {
        "name": "ipython",
        "version": 3
      },
      "file_extension": ".py",
      "mimetype": "text/x-python",
      "name": "python",
      "nbconvert_exporter": "python",
      "pygments_lexer": "ipython3",
      "version": "3.6.4"
    },
    "colab": {
      "name": "Lecture_11.ipynb",
      "provenance": [],
      "include_colab_link": true
    }
  },
  "nbformat": 4,
  "nbformat_minor": 0
}