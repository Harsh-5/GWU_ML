{
  "cells": [
    {
      "cell_type": "markdown",
      "metadata": {
        "id": "view-in-github",
        "colab_type": "text"
      },
      "source": [
        "<a href=\"https://colab.research.google.com/github/jphall663/GWU_ML/blob/main/notebook/lecture_10/Assignment_10.ipynb\" target=\"_parent\"><img src=\"https://colab.research.google.com/assets/colab-badge.svg\" alt=\"Open In Colab\"/></a>"
      ]
    },
    {
      "cell_type": "markdown",
      "metadata": {
        "id": "lHJyCWCR0H02"
      },
      "source": [
        "# License \n",
        "***\n",
        "Copyright (C) 2017-2022 J. Patrick Hall, jphall@gwu.edu\n",
        "\n",
        "Permission is hereby granted, free of charge, to any person obtaining a copy of this software and associated documentation files (the \"Software\"), to deal in the Software without restriction, including without limitation the rights to use, copy, modify, merge, publish, distribute, sublicense, and/or sell copies of the Software, and to permit persons to whom the Software is furnished to do so, subject to the following conditions:\n",
        "\n",
        "The above copyright notice and this permission notice shall be included in all copies or substantial portions of the Software.\n",
        "\n",
        "THE SOFTWARE IS PROVIDED \"AS IS\", WITHOUT WARRANTY OF ANY KIND, EXPRESS OR IMPLIED, INCLUDING BUT NOT LIMITED TO THE WARRANTIES OF MERCHANTABILITY, FITNESS FOR A PARTICULAR PURPOSE AND NONINFRINGEMENT. IN NO EVENT SHALL THE AUTHORS OR COPYRIGHT HOLDERS BE LIABLE FOR ANY CLAIM, DAMAGES OR OTHER LIABILITY, WHETHER IN AN ACTION OF CONTRACT, TORT OR OTHERWISE, ARISING FROM, OUT OF OR IN CONNECTION WITH THE SOFTWARE OR THE USE OR OTHER DEALINGS IN THE SOFTWARE."
      ]
    },
    {
      "cell_type": "markdown",
      "metadata": {
        "id": "jzDi7hqI0H1C"
      },
      "source": [
        "***\n",
        "# Kaggle House Prices with GLRM Matrix Factorization Example"
      ]
    },
    {
      "cell_type": "markdown",
      "metadata": {
        "id": "9_pxDSsA0H1D"
      },
      "source": [
        "1. General imports and inits"
      ]
    },
    {
      "cell_type": "code",
      "execution_count": null,
      "metadata": {
        "id": "0mY9UtJr0H1E"
      },
      "outputs": [],
      "source": [
        "import matplotlib as plt\n",
        "%matplotlib inline\n",
        "import numpy as np\n",
        "import pandas as pd\n",
        "\n",
        "# to upload local files\n",
        "import io\n",
        "from google.colab import files  \n",
        "\n",
        "SEED = 12345 # for better reproducibility"
      ]
    },
    {
      "cell_type": "markdown",
      "source": [
        "2. Install Java for h2o "
      ],
      "metadata": {
        "id": "tClICrRDnKA_"
      }
    },
    {
      "cell_type": "code",
      "source": [
        "# install Java for h2o backend\n",
        "!apt-get install default-jre\n",
        "!java -version"
      ],
      "metadata": {
        "id": "18j9KgxInJeO"
      },
      "execution_count": null,
      "outputs": []
    },
    {
      "cell_type": "markdown",
      "source": [
        "3. Install h2o"
      ],
      "metadata": {
        "id": "pNtRrcjenKdI"
      }
    },
    {
      "cell_type": "code",
      "source": [
        "# install h2o\n",
        "!pip install h2o "
      ],
      "metadata": {
        "id": "edb05AW3nJTv"
      },
      "execution_count": null,
      "outputs": []
    },
    {
      "cell_type": "markdown",
      "source": [
        "4. Import and start h2o"
      ],
      "metadata": {
        "id": "kjpTEyW9nGD3"
      }
    },
    {
      "cell_type": "code",
      "source": [
        "import h2o\n",
        "from h2o.estimators.glrm import H2OGeneralizedLowRankEstimator\n",
        "from h2o.estimators.glm import H2OGeneralizedLinearEstimator\n",
        "from h2o.grid.grid_search import H2OGridSearch \n",
        "h2o.init()"
      ],
      "metadata": {
        "id": "2zBY2Q0JnE8s"
      },
      "execution_count": null,
      "outputs": []
    },
    {
      "cell_type": "markdown",
      "metadata": {
        "id": "OSjm0mY40H1G"
      },
      "source": [
        "## Helper Functions"
      ]
    },
    {
      "cell_type": "markdown",
      "metadata": {
        "id": "Fz4ITDfJ0H1H"
      },
      "source": [
        "5. Determine data types"
      ]
    },
    {
      "cell_type": "code",
      "execution_count": null,
      "metadata": {
        "id": "kYkv6HLb0H1I"
      },
      "outputs": [],
      "source": [
        "def get_type_lists(frame, rejects=['Id', 'SalePrice']):\n",
        "\n",
        "    \"\"\"Creates lists of numeric and categorical variables.\n",
        "    \n",
        "    :param frame: The frame from which to determine types.\n",
        "    :param rejects: Variable names not to be included in returned lists.\n",
        "    :return: Tuple of lists for numeric and categorical variables in the frame.\n",
        "    \n",
        "    \"\"\"\n",
        "    \n",
        "    nums, cats = [], []\n",
        "    for key, val in frame.types.items():\n",
        "        if key not in rejects:\n",
        "            if val == 'enum':\n",
        "                cats.append(key)\n",
        "            else: \n",
        "                nums.append(key)\n",
        "                \n",
        "    print('Numeric =', nums)                \n",
        "    print()\n",
        "    print('Categorical =', cats)\n",
        "    \n",
        "    return nums, cats"
      ]
    },
    {
      "cell_type": "markdown",
      "metadata": {
        "id": "NEAkfIpZ0H1J"
      },
      "source": [
        "6. Impute with GLRM"
      ]
    },
    {
      "cell_type": "code",
      "execution_count": null,
      "metadata": {
        "id": "BFglS0xN0H1J"
      },
      "outputs": [],
      "source": [
        "def glrm_num_impute(role, frame):\n",
        "\n",
        "    \"\"\" Helper function for imputing numeric variables using GLRM.\n",
        "    \n",
        "    :param role: Role of frame to be imputed.\n",
        "    :param frame: H2OFrame to be imputed.\n",
        "    :return: H2OFrame of imputed numeric features.\n",
        "    \n",
        "    \"\"\"\n",
        "    \n",
        "    # count missing values in training data numeric columns\n",
        "    print(role + ' missing:\\n', [cnt for cnt in frame.nacnt() if cnt != 0.0])\n",
        "\n",
        "    # initialize GLRM\n",
        "    matrix_complete_glrm = H2OGeneralizedLowRankEstimator(\n",
        "        k=,                      # create 10 features, REQUIRES STUDENT INPUT \n",
        "        transform='STANDARDIZE', # <- seems very important\n",
        "        gamma_x=0.001,           # regularization on values in X\n",
        "        gamma_y=0.05,            # regularization on values in Y\n",
        "        seed=,                   # REQUIRES STUDENT INPUT\n",
        "        impute_original=True)\n",
        "\n",
        "    # train GLRM\n",
        "    matrix_complete_glrm.train(training_frame=frame, x=original_nums)\n",
        "\n",
        "    # plot iteration history to ensure convergence\n",
        "    matrix_complete_glrm.score_history().plot(x='iterations', y='objective', title='GLRM Score History')\n",
        "\n",
        "    # impute numeric inputs by multiplying the calculated xi and yj for the missing values in train\n",
        "    num_impute = matrix_complete_glrm.predict(frame)\n",
        "\n",
        "    # count missing values in imputed set\n",
        "    print('imputed ' + role + ' missing:\\n', [cnt for cnt in num_impute.nacnt() if cnt != 0.0])\n",
        "    \n",
        "    return num_impute"
      ]
    },
    {
      "cell_type": "markdown",
      "metadata": {
        "id": "LKtFtreI0H1L"
      },
      "source": [
        "7. Embed with GLRM "
      ]
    },
    {
      "cell_type": "code",
      "execution_count": null,
      "metadata": {
        "id": "XzhBCUTs0H1M"
      },
      "outputs": [],
      "source": [
        "def glrm_cat_embed(frame):\n",
        "    \n",
        "    \"\"\" Helper function for embedding caetgorical variables using GLRM.\n",
        "    \n",
        "    :param frame: H2OFrame to be embedded.\n",
        "    :return: H2OFrame of embedded categorical features.\n",
        "    \n",
        "    \"\"\"\n",
        "    \n",
        "    # initialize GLRM\n",
        "    cat_embed_glrm = H2OGeneralizedLowRankEstimator(\n",
        "        k=, # REQUIRES STUDENT INPUT\n",
        "        transform='STANDARDIZE',\n",
        "        loss='Quadratic',\n",
        "        regularization_x='Quadratic',\n",
        "        regularization_y='L1',\n",
        "        gamma_x=0.25,\n",
        "        gamma_y=0.5,\n",
        "        seed=) # REQUIRES STUDENT INPUT\n",
        "\n",
        "    # train GLRM\n",
        "    cat_embed_glrm.train(training_frame=frame, x=cats)\n",
        "\n",
        "    # plot iteration history to ensure convergence\n",
        "    cat_embed_glrm.score_history().plot(x='iterations', y='objective', title='GLRM Score History')\n",
        "\n",
        "    # extracted embedded features\n",
        "    cat_embed = h2o.get_frame(cat_embed_glrm._model_json['output']['representation_name'])\n",
        "    \n",
        "    return cat_embed"
      ]
    },
    {
      "cell_type": "markdown",
      "metadata": {
        "id": "9xTvIstw0H1N"
      },
      "source": [
        "8. Import train data"
      ]
    },
    {
      "cell_type": "code",
      "source": [
        "# special google collab command to upload a file from computer\n",
        "uploaded = files.upload() # REQUIRES STUDENT INPUT"
      ],
      "metadata": {
        "id": "aqk7_ra6p73S"
      },
      "execution_count": null,
      "outputs": []
    },
    {
      "cell_type": "code",
      "source": [
        "# 9 \n",
        "uploaded.keys() # what is stored in that Python object?"
      ],
      "metadata": {
        "id": "JQIg4lJKqGsv"
      },
      "execution_count": null,
      "outputs": []
    },
    {
      "cell_type": "markdown",
      "source": [
        "10. Load train and test data"
      ],
      "metadata": {
        "id": "RZyzaq6jqyto"
      }
    },
    {
      "cell_type": "code",
      "execution_count": null,
      "metadata": {
        "id": "fQTrj9Sf0H1O"
      },
      "outputs": [],
      "source": [
        "train = pd.read_csv(io.StringIO(uploaded['train.csv'].decode('utf-8'))) # name in quotes here must match name in 6 above\n",
        "train = h2o.H2OFrame(train) # convert to h2o\n",
        "\n",
        "print(train.shape)"
      ]
    },
    {
      "cell_type": "markdown",
      "source": [
        "11. Determine input feature measurement levels"
      ],
      "metadata": {
        "id": "aaeqCknDq3XC"
      }
    },
    {
      "cell_type": "code",
      "execution_count": null,
      "metadata": {
        "id": "8vHdniU50H1P"
      },
      "outputs": [],
      "source": [
        "original_nums, cats = get_type_lists(train)"
      ]
    },
    {
      "cell_type": "markdown",
      "metadata": {
        "id": "VXE__H-60H1Q"
      },
      "source": [
        "12. Split into to train and validation (before doing data prep!!!)"
      ]
    },
    {
      "cell_type": "code",
      "execution_count": null,
      "metadata": {
        "id": "JHY-Le7D0H1Q"
      },
      "outputs": [],
      "source": [
        "train, valid = train.split_frame([0.7], seed=) # REQUIRES STUDENT INPUT\n",
        "print(train.shape)\n",
        "print(valid.shape)"
      ]
    },
    {
      "cell_type": "markdown",
      "metadata": {
        "id": "U1UyCu7y0H1Q"
      },
      "source": [
        "13. Impute numeric missing using GLRM matrix completion in training data"
      ]
    },
    {
      "cell_type": "code",
      "execution_count": null,
      "metadata": {
        "id": "J_RF9PAQ0H1R"
      },
      "outputs": [],
      "source": [
        "train_num_impute = glrm_num_impute('training', train)"
      ]
    },
    {
      "cell_type": "markdown",
      "source": [
        "14. Inspect imputed training data "
      ],
      "metadata": {
        "id": "xBVR4-Dtr6tN"
      }
    },
    {
      "cell_type": "code",
      "execution_count": null,
      "metadata": {
        "id": "1NTkAxxN0H1R"
      },
      "outputs": [],
      "source": [
        "train_num_impute.head()"
      ]
    },
    {
      "cell_type": "markdown",
      "metadata": {
        "id": "PkkzGy6c0H1S"
      },
      "source": [
        "15. Impute numeric missing using GLRM matrix completion in validation data"
      ]
    },
    {
      "cell_type": "code",
      "execution_count": null,
      "metadata": {
        "id": "OaIetotk0H1S"
      },
      "outputs": [],
      "source": [
        "valid_num_impute = glrm_num_impute('validation', valid)"
      ]
    },
    {
      "cell_type": "markdown",
      "metadata": {
        "id": "-mTengjT0H1U"
      },
      "source": [
        "16. Embed categorical vars in training data with GLRM"
      ]
    },
    {
      "cell_type": "code",
      "execution_count": null,
      "metadata": {
        "id": "Xj85xZKd0H1U"
      },
      "outputs": [],
      "source": [
        "train_cat_embed = glrm_cat_embed(train) # runs for a long time"
      ]
    },
    {
      "cell_type": "markdown",
      "metadata": {
        "id": "Xp05usIv0H1V"
      },
      "source": [
        "17. Embed categorical vars in validation data with GLRM"
      ]
    },
    {
      "cell_type": "code",
      "execution_count": null,
      "metadata": {
        "id": "JbIRQJal0H1V"
      },
      "outputs": [],
      "source": [
        "valid_cat_embed = glrm_cat_embed(valid) # runs for a long time"
      ]
    },
    {
      "cell_type": "markdown",
      "metadata": {
        "id": "uOFxSUxR0H1W"
      },
      "source": [
        "18. Merge imputed and embedded frames"
      ]
    },
    {
      "cell_type": "code",
      "execution_count": null,
      "metadata": {
        "id": "EK7Bx1OX0H1W"
      },
      "outputs": [],
      "source": [
        "imputed_embedded_train = train[['Id', 'SalePrice']].cbind(train_num_impute).cbind(train_cat_embed)\n",
        "imputed_embedded_valid = valid[['Id', 'SalePrice']].cbind(valid_num_impute).cbind(valid_cat_embed)"
      ]
    },
    {
      "cell_type": "markdown",
      "metadata": {
        "id": "p2o-Qmeb0H1W"
      },
      "source": [
        "19. Redefine numeric inputs and explore"
      ]
    },
    {
      "cell_type": "code",
      "execution_count": null,
      "metadata": {
        "id": "SG-rwOV30H1X"
      },
      "outputs": [],
      "source": [
        "imputed_embedded_nums, cats = get_type_lists(imputed_embedded_train)\n",
        "\n",
        "print('Imputed and encoded numeric training data:')\n",
        "imputed_embedded_train.describe() \n",
        "print('--------------------------------------------------------------------------------')\n",
        "print('Imputed and encoded numeric validation data:')\n",
        "imputed_embedded_valid.describe() \n"
      ]
    },
    {
      "cell_type": "markdown",
      "metadata": {
        "id": "5s4us7uc0H1X"
      },
      "source": [
        "20. Log transform for supervised target"
      ]
    },
    {
      "cell_type": "code",
      "execution_count": null,
      "metadata": {
        "id": "g8fH26MV0H1Y"
      },
      "outputs": [],
      "source": [
        "# Check log transform - looks good\n",
        "%matplotlib inline\n",
        "imputed_embedded_train['SalePrice'].log().as_data_frame().hist()\n",
        "\n",
        "# Execute log transform\n",
        "imputed_embedded_train['SalePrice'] = imputed_embedded_train['SalePrice'].log()\n",
        "imputed_embedded_valid['SalePrice'] = imputed_embedded_valid['SalePrice'].log()\n",
        "print(imputed_embedded_train[0:3, 'SalePrice'])"
      ]
    },
    {
      "cell_type": "markdown",
      "metadata": {
        "id": "qA8GhJgs0H1Y"
      },
      "source": [
        "21. Train GLM on imputed, embedded inputs"
      ]
    },
    {
      "cell_type": "code",
      "execution_count": null,
      "metadata": {
        "id": "H18rCRH30H1Y"
      },
      "outputs": [],
      "source": [
        "alpha_opts = [0.01, 0.25, 0.5, 0.99] # always keep some L2\n",
        "hyper_parameters = {\"alpha\":alpha_opts}\n",
        "\n",
        "# initialize grid search\n",
        "grid = H2OGridSearch(\n",
        "    H2OGeneralizedLinearEstimator(\n",
        "        family=\"gaussian\",\n",
        "        lambda_search=True,\n",
        "        seed=), # REQUIRES STUDENT INPUT\n",
        "        hyper_params=hyper_parameters)\n",
        "    \n",
        "# train grid\n",
        "grid.train(y='SalePrice',\n",
        "           x=imputed_embedded_nums, \n",
        "           training_frame=imputed_embedded_train,\n",
        "           validation_frame=imputed_embedded_valid,\n",
        "           seed=) # REQUIRES STUDENT INPUT\n",
        "\n",
        "# show grid search results\n",
        "print(grid.show())\n",
        "\n",
        "best = grid.get_grid()[0]\n",
        "print(best)\n",
        "    \n",
        "# plot top frame values\n",
        "yhat_frame = imputed_embedded_valid.cbind(best.predict(imputed_embedded_valid))\n",
        "print(yhat_frame[0:10, ['SalePrice', 'predict']])\n",
        "\n",
        "# plot sorted predictions\n",
        "yhat_frame_df = yhat_frame[['SalePrice', 'predict']].as_data_frame()\n",
        "yhat_frame_df.sort_values(by='predict', inplace=True)\n",
        "yhat_frame_df.reset_index(inplace=True, drop=True)\n",
        "_ = yhat_frame_df.plot(title='Ranked Predictions Plot')"
      ]
    },
    {
      "cell_type": "code",
      "execution_count": null,
      "metadata": {
        "id": "v_FZu1pw0H1Y"
      },
      "outputs": [],
      "source": [
        "# 22\n",
        "# Shutdown H2O - this will erase all your unsaved frames and models in H2O\n",
        "h2o.cluster().shutdown(prompt=True)"
      ]
    }
  ],
  "metadata": {
    "anaconda-cloud": {},
    "kernelspec": {
      "display_name": "Python 3",
      "language": "python",
      "name": "python3"
    },
    "language_info": {
      "codemirror_mode": {
        "name": "ipython",
        "version": 3
      },
      "file_extension": ".py",
      "mimetype": "text/x-python",
      "name": "python",
      "nbconvert_exporter": "python",
      "pygments_lexer": "ipython3",
      "version": "3.6.4"
    },
    "colab": {
      "name": "Assignment 10.ipynb",
      "provenance": [],
      "include_colab_link": true
    }
  },
  "nbformat": 4,
  "nbformat_minor": 0
}